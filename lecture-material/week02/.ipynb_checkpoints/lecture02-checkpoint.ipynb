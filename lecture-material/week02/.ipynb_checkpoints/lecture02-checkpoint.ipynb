{
 "cells": [
  {
   "cell_type": "markdown",
   "id": "fc759772",
   "metadata": {},
   "source": [
    "<div class=\"frontmatter text-center\">\n",
    "<h1>Geospatial Data Science</h1>\n",
    "<h2>Lecture 2: Geospatial Data in Python</h2>\n",
    "<h3>IT University of Copenhagen, Spring 2024</h3>\n",
    "<h3>Instructor: Michael Szell</h3>\n",
    "</div>\n",
    "\n",
    "This notebook was adapted from:\n",
    "* A course on Geographic Data Science: https://darribas.org/gds_course/content/bC/lab_C.html\n",
    "* Automating GIS-Processes: https://autogis-site.readthedocs.io/en/latest/notebooks/L2/02-projections.html"
   ]
  },
  {
   "cell_type": "markdown",
   "id": "458d7954",
   "metadata": {},
   "source": [
    "# PART 1: GEOPANDAS & VECTOR DATA"
   ]
  },
  {
   "cell_type": "markdown",
   "id": "c9d1819d",
   "metadata": {},
   "source": [
    "### Imports"
   ]
  },
  {
   "cell_type": "code",
   "execution_count": null,
   "id": "f9a137b4",
   "metadata": {},
   "outputs": [],
   "source": [
    "import geopandas as gpd # for geospatial data handling\n",
    "import pandas as pd\n",
    "import osmnx # for handling data from OpenStreetMap (osm) with the help of networkX (nx)\n",
    "import contextily as cx # for plotting\n",
    "import matplotlib.pyplot as plt # for plotting\n",
    "from pyproj import CRS # for more advanced CRS modifications and transformations"
   ]
  },
  {
   "cell_type": "markdown",
   "id": "93e6b686",
   "metadata": {},
   "source": [
    "In this lecture, we will learn how to **load, manipulate** and **visualize** spatial data with a focus on *vector* data. \n",
    "\n",
    "In some senses, spatial data are usually included simply as \"one more column\" in a table. However, *spatial is special* sometimes and there are few aspects in which geographic data differ from standard numerical tables. Dealing with spatial data in Python largely resembles dealing with non-spatial data."
   ]
  },
  {
   "cell_type": "markdown",
   "id": "ae494d1f",
   "metadata": {},
   "source": [
    "## Introduction to GeoPandas\n",
    "\n",
    "GeoPandas - the spatial extension of pandas - is one of the core libraries for doing geospatial analysis in Python.\n",
    "\n",
    "There are various different GIS data formats available such as [GPKG](https://en.wikipedia.org/wiki/GeoPackage), [GeoJSON](https://en.wikipedia.org/wiki/GeoJSON), [KML](https://en.wikipedia.org/wiki/Keyhole_Markup_Language), and [Shapefile](https://en.wikipedia.org/wiki/Shapefile). [Geopandas](https://geopandas.org/en/stable/docs/user_guide/io.html) is capable of reading data from all of these formats (plus many more) and combines the capabilities of the data analysis library [pandas](https://pandas.pydata.org/pandas-docs/stable/) with other packages like [shapely](https://shapely.readthedocs.io/en/stable/manual.html) and [fiona](https://fiona.readthedocs.io/en/latest/manual.html) for managing spatial data. \n",
    "\n",
    "The main data structures in geopandas are `GeoSeries` and `GeoDataFrame` which extend the capabilities of `Series` and `DataFrames` from pandas. This means that we can use all our pandas skills also when working with geopandas - with some added spatial functionalities 🌐\n",
    "\n",
    "The main difference between geodataframes and pandas dataframes is that a [geodataframe](https://geopandas.org/en/stable/docs/user_guide/data_structures.html#geodataframe) should contain one column for **geometries**. By default, the name of this column is `'geometry'`. The geometry column is a [geoseries](https://geopandas.org/en/stable/docs/user_guide/data_structures.html#geoseries) which contains the geometries (points, lines, polygons, multipolygons etc.) as shapely objects. More info here: https://geopandas.org/en/stable/getting_started/introduction.html\n",
    "\n",
    "<img src=\"files/dataframe.svg\">"
   ]
  },
  {
   "cell_type": "markdown",
   "id": "759bad50",
   "metadata": {},
   "source": [
    "## Datasets"
   ]
  },
  {
   "cell_type": "markdown",
   "id": "227baa78",
   "metadata": {},
   "source": [
    "To learn these concepts, we will be playing with three main datasets: Cities, streets, and bars in Spain. These datasets can be loaded dynamically from the web, or from your computer.\n",
    "\n",
    "Regardless of file format, we use the `gpd.read_file()` method. To save files, use `gpd.save_file()`."
   ]
  },
  {
   "cell_type": "markdown",
   "id": "15630dab",
   "metadata": {},
   "source": [
    "### Cities\n",
    "\n",
    "We will use an open dataset that contains the boundaries of Spanish cities as *polygons*. We can read it into an object named `cities` by:"
   ]
  },
  {
   "cell_type": "code",
   "execution_count": null,
   "id": "cc5d418c",
   "metadata": {},
   "outputs": [],
   "source": [
    "cities = gpd.read_file(\"https://ndownloader.figshare.com/files/20232174\")"
   ]
  },
  {
   "cell_type": "markdown",
   "id": "86f087b3",
   "metadata": {},
   "source": [
    "The code cell above requires internet connectivity. If you are not online you can read the data from your computer with the following line of code: "
   ]
  },
  {
   "cell_type": "code",
   "execution_count": null,
   "id": "14f4f31a",
   "metadata": {},
   "outputs": [],
   "source": [
    "cities = gpd.read_file(\"files/cities.gpkg\")"
   ]
  },
  {
   "cell_type": "markdown",
   "id": "4643579e",
   "metadata": {},
   "source": [
    "We can check that this actually produced a GeoDataFrame...."
   ]
  },
  {
   "cell_type": "code",
   "execution_count": null,
   "id": "19bef0fc",
   "metadata": {},
   "outputs": [],
   "source": [
    "type(cities)"
   ]
  },
  {
   "cell_type": "markdown",
   "id": "fc2e905f",
   "metadata": {},
   "source": [
    "...and get a sample of the data like this:"
   ]
  },
  {
   "cell_type": "code",
   "execution_count": null,
   "id": "e00dc6bc",
   "metadata": {},
   "outputs": [],
   "source": [
    "cities.sample(5)"
   ]
  },
  {
   "cell_type": "markdown",
   "id": "55bee919",
   "metadata": {},
   "source": [
    "Now `cities` is a `GeoDataFrame`. Very similar to a traditional, non-spatial `DataFrame`, but with an additional column called `geometry`. You should recognize the geometry data from last week's introduction to Shapely!\n"
   ]
  },
  {
   "cell_type": "code",
   "execution_count": null,
   "id": "49c58f73",
   "metadata": {},
   "outputs": [],
   "source": [
    "cities.geometry.head()"
   ]
  },
  {
   "cell_type": "markdown",
   "id": "4660a16b",
   "metadata": {},
   "source": [
    "### Streets\n",
    "\n",
    "In addition to polygons, we will play with a line layer. For that, we are going to use a subset of street network from the Spanish city of Madrid. \n",
    "\n",
    "This dataset is from of a project called \"Las calles de las mujeres\", a community-driven initiative exploring the extent to which streets are named after women. \n",
    "\n",
    "Check out more about the project, including an interactive map at: [https://geochicasosm.github.io/lascallesdelasmujeres/](https://geochicasosm.github.io/lascallesdelasmujeres/)\n",
    "\n",
    "The data is available on the following web address:"
   ]
  },
  {
   "cell_type": "code",
   "execution_count": null,
   "id": "92daa9b9",
   "metadata": {},
   "outputs": [],
   "source": [
    "url = (\n",
    "    \"https://github.com/geochicasosm/lascallesdelasmujeres\"\n",
    "    \"/raw/master/data/madrid/final_tile.geojson\"\n",
    ")"
   ]
  },
  {
   "cell_type": "markdown",
   "id": "bf24212b",
   "metadata": {},
   "source": [
    "And you can read it into an object called `streets` with:"
   ]
  },
  {
   "cell_type": "code",
   "execution_count": null,
   "id": "93e98bad",
   "metadata": {},
   "outputs": [],
   "source": [
    "streets = gpd.read_file(url)"
   ]
  },
  {
   "cell_type": "markdown",
   "id": "20073076",
   "metadata": {},
   "source": [
    "The code cell above also requires internet connectivity. If you are not online, you can read the data with the following line of code: "
   ]
  },
  {
   "cell_type": "code",
   "execution_count": null,
   "id": "2fbe09cd",
   "metadata": {},
   "outputs": [],
   "source": [
    "streets = gpd.read_file(\"files/streets.geojson\")"
   ]
  },
  {
   "cell_type": "code",
   "execution_count": null,
   "id": "5a29286d",
   "metadata": {},
   "outputs": [],
   "source": [
    "streets.head(3)"
   ]
  },
  {
   "cell_type": "markdown",
   "id": "fc129607",
   "metadata": {},
   "source": [
    "To explore what type of geometries our geodataframe contains - maybe there's more than one? - we use `geom_type`:"
   ]
  },
  {
   "cell_type": "code",
   "execution_count": null,
   "id": "b5875371",
   "metadata": {},
   "outputs": [],
   "source": [
    "streets.geom_type.unique()"
   ]
  },
  {
   "cell_type": "markdown",
   "id": "b4887b19",
   "metadata": {},
   "source": [
    "For this tutorial, we however only want the streets with a Linestring-geometry:"
   ]
  },
  {
   "cell_type": "code",
   "execution_count": null,
   "id": "5dfbfb28",
   "metadata": {},
   "outputs": [],
   "source": [
    "streets = streets.loc[streets.geom_type=='LineString']\n",
    "streets.geom_type.unique()"
   ]
  },
  {
   "cell_type": "markdown",
   "id": "d6a1101e",
   "metadata": {},
   "source": [
    "### Bars\n",
    "\n",
    "The final dataset we will rely on is a set of points demarcating the location of bars in Madrid. To obtain it, we will use `osmnx`, a Python library that allows us to query [OpenStreetMap](https://www.openstreetmap.org) (you will learn much more about this later!). Note that we use the method `pois_from_place`, which queries for points of interest (POIs, or `pois`) in a particular place (Madrid in this case). In addition, we can specify a set of tags to delimit the query. We use this to ask _only_ for amenities of the type \"bar\":"
   ]
  },
  {
   "cell_type": "code",
   "execution_count": null,
   "id": "63860caa",
   "metadata": {},
   "outputs": [],
   "source": [
    "pois = osmnx.geometries_from_place(\n",
    "    \"Madrid, Spain\", tags={\"amenity\": \"bar\"}\n",
    ")"
   ]
  },
  {
   "cell_type": "markdown",
   "id": "3713347d",
   "metadata": {},
   "source": [
    "You do not need to know at this point what happens behind the scenes when we run `geometries_from_place` but, if you are curious, we are making a query to [OpenStreetMap](https://www.openstreetmap.org) (almost as if you typed \"bars in Madrid, Spain\" within Google Maps) and getting the response as a table of data, instead of as a website with an interactive map. Pretty cool, huh?\n",
    "\n",
    "#### Non-spatial file formats\n",
    "In all of the above, the data sets were already spatial data formats with defined geometries. It is however also possible to convert a csv with for example x,y-coordinates to a GeoDataFrame, with only a bit more code:"
   ]
  },
  {
   "cell_type": "code",
   "execution_count": null,
   "id": "f7ab60c0",
   "metadata": {},
   "outputs": [],
   "source": [
    "df = pd.read_csv('files/pois_xy.csv')\n",
    "\n",
    "gdf = gpd.GeoDataFrame(\n",
    "    df, geometry=gpd.points_from_xy(df.x, df.y) # columns with x and y coordinates in dataframe\n",
    ")"
   ]
  },
  {
   "cell_type": "markdown",
   "id": "f0777305",
   "metadata": {},
   "source": [
    "---"
   ]
  },
  {
   "cell_type": "markdown",
   "id": "2523c625",
   "metadata": {},
   "source": [
    "## Inspecting spatial data"
   ]
  },
  {
   "cell_type": "markdown",
   "id": "43113675",
   "metadata": {},
   "source": [
    "The most direct way to get from a file to a quick visualization of the data is by loading it as a `GeoDataFrame` and calling the `plot` command.\n",
    "\n",
    "It is always a good idea to start with plotting your data to get an overview - so make use of spatial data's natural visual component!\n",
    "\n",
    "In two lines of code, we will obtain a graphical representation of the spatial data contained in a file. Let us start by plotting single layers in a crude but quick form, and we will build style and sophistication into our plots later on."
   ]
  },
  {
   "cell_type": "markdown",
   "id": "11fb6cba",
   "metadata": {},
   "source": [
    "### Polygons\n",
    "\n",
    "The most simple way is simply to call `geodataframe.plot()`:"
   ]
  },
  {
   "cell_type": "code",
   "execution_count": null,
   "id": "6b5298cf",
   "metadata": {},
   "outputs": [],
   "source": [
    "cities.plot();"
   ]
  },
  {
   "cell_type": "markdown",
   "id": "3dd790f1",
   "metadata": {},
   "source": [
    "This might not be the most aesthetically pleasant visual representation of cities, but it is hard to argue it is not quick to produce. We will work on styling and customizing spatial plots later on.\n",
    "\n",
    "For a quick, interactive map, use the build-in method `explore()`:"
   ]
  },
  {
   "cell_type": "code",
   "execution_count": null,
   "id": "20145dac",
   "metadata": {},
   "outputs": [],
   "source": [
    "cities.explore()"
   ]
  },
  {
   "cell_type": "markdown",
   "id": "1d5b4a9b",
   "metadata": {},
   "source": [
    "This produced an interactive folium map, with a background map, zoom, and data values shown on hover! (We will learn how to build and customize our own interactive maps later).\n",
    "For large data sets, this method can be slow."
   ]
  },
  {
   "cell_type": "markdown",
   "id": "9c496f39",
   "metadata": {},
   "source": [
    "**Tip**: if you call a single row of the `geometry` column, it'll return a small plot with the shape:"
   ]
  },
  {
   "cell_type": "code",
   "execution_count": null,
   "id": "d2cefd84",
   "metadata": {},
   "outputs": [],
   "source": [
    "cities.loc[0, 'geometry']"
   ]
  },
  {
   "cell_type": "markdown",
   "id": "9f2e4f68",
   "metadata": {},
   "source": [
    "### Lines"
   ]
  },
  {
   "cell_type": "markdown",
   "id": "1b8e19f1",
   "metadata": {},
   "source": [
    "Similarly to the polygon case, if we pick the `\"geometry\"` column of a table with lines, a single row will display the geometry as well:"
   ]
  },
  {
   "cell_type": "code",
   "execution_count": null,
   "id": "671f7169",
   "metadata": {},
   "outputs": [],
   "source": [
    "streets.loc[2, 'geometry']"
   ]
  },
  {
   "cell_type": "markdown",
   "id": "16aa0d9d",
   "metadata": {},
   "source": [
    "A quick plot is similarly generated by:"
   ]
  },
  {
   "cell_type": "code",
   "execution_count": null,
   "id": "394d7e25",
   "metadata": {},
   "outputs": [],
   "source": [
    "streets.plot();"
   ]
  },
  {
   "cell_type": "markdown",
   "id": "fe54e8e8",
   "metadata": {},
   "source": [
    "Again, this is not the prettiest way to display the streets maybe, and you might want to change a few parameters such as colors, etc. All of this is possible, as we will see below, but this gives us a quick idea of what lines look like."
   ]
  },
  {
   "cell_type": "markdown",
   "id": "33b86c65",
   "metadata": {},
   "source": [
    "### Points"
   ]
  },
  {
   "cell_type": "markdown",
   "id": "fcc57e99",
   "metadata": {},
   "source": [
    "Points take a similar approach for quick plotting:"
   ]
  },
  {
   "cell_type": "code",
   "execution_count": null,
   "id": "55f3634f",
   "metadata": {},
   "outputs": [],
   "source": [
    "pois.plot();"
   ]
  },
  {
   "cell_type": "markdown",
   "id": "4b29c6a5",
   "metadata": {},
   "source": [
    "## Manipulating spatial data with GeoPandas"
   ]
  },
  {
   "cell_type": "markdown",
   "id": "9c4c855f",
   "metadata": {},
   "source": [
    "Once we have an understanding of how to explore our spatial data, let us see some of the methods GeoPandas has for working with spatial data. Essentially, the key is to realize that a `GeoDataFrame` (gdf) contains most of its spatial information in a single column named `geometry`, but the rest of it looks and behaves exactly like a non-spatial `DataFrame` (in fact, it is).\n",
    "\n",
    "GeoDataFrames come with a whole range of traditional GIS operations built-in. Here we will run through a small subset of them that contains some of the most commonly used ones."
   ]
  },
  {
   "cell_type": "markdown",
   "id": "5e8c8966",
   "metadata": {},
   "source": [
    "### Area calculation\n",
    "\n",
    "One of the spatial aspects we often need from polygons is their area. \"How big is it?\" is a question that always haunts us when we think of countries, regions, or cities. To obtain area measurements, first make sure your `GeoDataFrame` is in a *projected* CRS. GeoPandas will issue a warning if you try to do distance or area computations in a geographic CRS."
   ]
  },
  {
   "cell_type": "code",
   "execution_count": null,
   "id": "d18b2cb7",
   "metadata": {},
   "outputs": [],
   "source": [
    "city_areas = cities.area\n",
    "city_areas.head()"
   ]
  },
  {
   "cell_type": "markdown",
   "id": "0b1fa10f",
   "metadata": {},
   "source": [
    "This indicates that the area of the first city in our table takes up 8,450,000 squared metres. Notice that GeoPandas automatically know to use the `geometry`column for the area calculation.\n",
    "\n",
    "If we wanted to convert into squared kilometres, we can divide by 1,000,000:"
   ]
  },
  {
   "cell_type": "code",
   "execution_count": null,
   "id": "cb1743d3",
   "metadata": {},
   "outputs": [],
   "source": [
    "areas_in_sqkm = city_areas / 1000000\n",
    "areas_in_sqkm.head()"
   ]
  },
  {
   "cell_type": "markdown",
   "id": "1311daf9",
   "metadata": {},
   "source": [
    "### Length\n",
    "\n",
    "An equally common question about lines is their *length*. This computation is straightforward in Python, again provided that our data are projected.\n",
    "Let's first try a simple length calculation:"
   ]
  },
  {
   "cell_type": "code",
   "execution_count": null,
   "id": "9c904558",
   "metadata": {},
   "outputs": [],
   "source": [
    "streets.length.head(5)"
   ]
  },
  {
   "cell_type": "markdown",
   "id": "d5add205",
   "metadata": {},
   "source": [
    "As you can see, all the streets look very short (??) and GeoPandas is complaining. That is because the streets are in a *geographic* CRS, which means that the street lengths are measured in degrees!\n",
    "To fix this, we can change the geometries to a projected CRS (`to_crs`) and calculate the length at the same time:"
   ]
  },
  {
   "cell_type": "code",
   "execution_count": null,
   "id": "b56f07a0",
   "metadata": {},
   "outputs": [],
   "source": [
    "street_length = streets.to_crs(epsg=25830).length\n",
    "street_length.head()"
   ]
  },
  {
   "cell_type": "markdown",
   "id": "6c2dc275",
   "metadata": {},
   "source": [
    "Since the CRS we use (`EPSG:25830`) is expressed in metres, we can tell the first street segment is about 370m."
   ]
  },
  {
   "cell_type": "markdown",
   "id": "2938226e",
   "metadata": {},
   "source": [
    "### Centroid calculation"
   ]
  },
  {
   "cell_type": "markdown",
   "id": "5f0876fe",
   "metadata": {},
   "source": [
    "Sometimes it is useful to summarize a polygon into a single point and, for that, a good candidate is its centroid (almost like a spatial analogue of the average). The following command will return a `GeoSeries` (a single column with spatial data) with the centroids of a polygon `GeoDataFrame`:"
   ]
  },
  {
   "cell_type": "code",
   "execution_count": null,
   "id": "bccc86f7",
   "metadata": {},
   "outputs": [],
   "source": [
    "cents = cities.centroid\n",
    "cents.head()"
   ]
  },
  {
   "cell_type": "markdown",
   "id": "4a19d6a9",
   "metadata": {},
   "source": [
    "Note how `cents` is not an entire table but a single column, or a `GeoSeries` object. This means you can plot it directly, just like a table:"
   ]
  },
  {
   "cell_type": "code",
   "execution_count": null,
   "id": "b600708f",
   "metadata": {},
   "outputs": [],
   "source": [
    "cents.plot();"
   ]
  },
  {
   "cell_type": "markdown",
   "id": "aea12b60",
   "metadata": {},
   "source": [
    "### Point in polygon (PiP)\n",
    "\n",
    "Knowing whether a point is inside a polygon is conceptually a straightforward exercise but computationally a tricky task to perform. The way to perform this operation in `GeoPandas` is through the `contains` method, available for each polygon object.\n",
    "\n",
    "The `contains()`method is only one in a family of spatial topology operations, such as `intersects`, `touces`, `within`, etc."
   ]
  },
  {
   "cell_type": "code",
   "execution_count": null,
   "id": "46647fcd",
   "metadata": {},
   "outputs": [],
   "source": [
    "poly = cities.loc[12, \"geometry\"] # select one city\n",
    "pt1 = cents[0] # centroid of a city\n",
    "pt2 = cents[12] # centroid of another city"
   ]
  },
  {
   "cell_type": "markdown",
   "id": "4fc55a48",
   "metadata": {},
   "source": [
    "And we can perform the checks as follows:"
   ]
  },
  {
   "cell_type": "code",
   "execution_count": null,
   "id": "b87c617f",
   "metadata": {},
   "outputs": [],
   "source": [
    "poly.contains(pt1)"
   ]
  },
  {
   "cell_type": "code",
   "execution_count": null,
   "id": "f5aeb889",
   "metadata": {},
   "outputs": [],
   "source": [
    "poly.contains(pt2)"
   ]
  },
  {
   "cell_type": "markdown",
   "id": "b9e0e572",
   "metadata": {},
   "source": [
    "Performing point-in-polygon in this way is instructive and useful for pedagogical reasons, but for cases with many points and polygons, it is not particularly efficient. In these situations, it is much more advisable to perform them as a **[spatial join](https://geopandas.org/en/stable/docs/user_guide/mergingdata.html#spatial-joins)**.\n",
    "\n",
    "Similarly, the Geopandas method `overlay()` is an efficient way of performing spatial **[set-based operations](https://geopandas.org/en/stable/docs/user_guide/set_operations.html)**  (*intersection, unions, difference*, etc.)"
   ]
  },
  {
   "cell_type": "markdown",
   "id": "41b19dd1",
   "metadata": {},
   "source": [
    "### Buffers\n",
    "\n",
    "Buffers are one of the classical geospatial operations in which an area is drawn around a particular geometry, based on a chosen radius. These are very useful, for instance, in combination with point-in-polygon operations to calculate accessibility, catchment areas, etc.\n",
    "\n",
    "For this example, we will use the bars table, but will **reproject** it to the same CRS as `cities`, so it is expressed in metres:"
   ]
  },
  {
   "cell_type": "code",
   "execution_count": null,
   "id": "191fe77c",
   "metadata": {},
   "outputs": [],
   "source": [
    "pois_projected = pois.to_crs(cities.crs) #more on CRS below!"
   ]
  },
  {
   "cell_type": "markdown",
   "id": "b8852640",
   "metadata": {},
   "source": [
    "To create a buffer using `GeoPandas`, simply call the `buffer` method, passing in the radius. For example, to draw a 500m. buffer around every bar in Madrid:"
   ]
  },
  {
   "cell_type": "code",
   "execution_count": null,
   "id": "fe52a781",
   "metadata": {},
   "outputs": [],
   "source": [
    "buf = pois_projected.buffer(500)\n",
    "buf.head()"
   ]
  },
  {
   "cell_type": "markdown",
   "id": "ce5594b0",
   "metadata": {},
   "source": [
    "Notice how the geometries are now polygons!\n",
    "\n",
    "Plotting it is equally straighforward:"
   ]
  },
  {
   "cell_type": "code",
   "execution_count": null,
   "id": "e5fc69e2",
   "metadata": {},
   "outputs": [],
   "source": [
    "f, ax = plt.subplots(1)\n",
    "# Plot buffer\n",
    "buf.plot(ax=ax, linewidth=0)\n",
    "# Plot named places on top for reference\n",
    "# [NOTE how we modify the dot size (`markersize`) and the color (`color`)]\n",
    "pois_projected.plot(ax=ax, markersize=1, color='yellow');"
   ]
  },
  {
   "cell_type": "markdown",
   "id": "0c4f04fd",
   "metadata": {},
   "source": [
    "## Styling plots\n",
    "\n",
    "It is possible to tweak several aspects of a plot to customize if to particular needs. In this section, we will explore some of the basic elements that will allow us to obtain more compelling maps. In this tutorial we use matplotlib because GeoPandas comes with build in methods for matplotlib plotting - but we will later encounter other methods for plotting spatial data in Python.\n",
    "\n",
    "### Changing transparency\n",
    "\n",
    "The intensity of color of a polygon can be easily changed through the `alpha` attribute in plot. This is specified as a value betwee zero and one, where the former is entirely transparent while the latter is the fully opaque (maximum intensity):"
   ]
  },
  {
   "cell_type": "code",
   "execution_count": null,
   "id": "76d15c79",
   "metadata": {},
   "outputs": [],
   "source": [
    "pois.plot(alpha=0.1);"
   ]
  },
  {
   "cell_type": "markdown",
   "id": "16be4005",
   "metadata": {},
   "source": [
    "### Removing axes\n",
    "\n",
    "Although in some cases, the axes - which shows the location of the data in the CRS used - can be useful to obtain context, maps often look and feel better without them. Removing the axes involves wrapping the plot into a figure, which takes a few more lines of aparently useless code but that, in time, it will allow you to tweak the map further and to create much more flexible designs:"
   ]
  },
  {
   "cell_type": "code",
   "execution_count": null,
   "id": "1aae7d82",
   "metadata": {},
   "outputs": [],
   "source": [
    "# Setup figure and axis\n",
    "f, ax = plt.subplots(1)\n",
    "# Plot layer of polygons on the axis\n",
    "cities.plot(ax=ax)\n",
    "# Remove axis frames\n",
    "ax.set_axis_off()\n",
    "# Display\n",
    "plt.show() # Not always necessary - but can be with more advanced tinkering with the plotting settings"
   ]
  },
  {
   "cell_type": "markdown",
   "id": "8568df1a",
   "metadata": {},
   "source": [
    "Let us stop for a second a study each of the previous lines:\n",
    "\n",
    "1. We have first created a figure named `f` with one axis named `ax` by using the command `plt.subplots` (part of the library `matplotlib`, which we have imported at the top of the notebook). Note how the method is returning two elements and we can assign each of them to objects with different name (`f` and `ax`) by simply listing them at the front of the line, separated by commas.\n",
    "2. Second, we plot the geometries as before, but this time we tell the function that we want it to draw the polygons on the axis we are passing, `ax`.\n",
    "3. On the third line, we effectively remove the box with coordinates.\n",
    "4. Finally, we draw the entire plot by calling `plt.show()`.\n",
    "\n",
    "### Adding a title\n",
    "\n",
    "Adding a title is an extra line, if we are creating the plot within a figure, as we just did. To include text on top of the figure:"
   ]
  },
  {
   "cell_type": "code",
   "execution_count": null,
   "id": "5f514ff0",
   "metadata": {},
   "outputs": [],
   "source": [
    "# Setup figure and axis\n",
    "f, ax = plt.subplots(1)\n",
    "# Add layer of polygons on the axis\n",
    "streets.plot(ax=ax)\n",
    "ax.set_axis_off()\n",
    "# Add figure title\n",
    "f.suptitle(\"Streets in Madrid\")\n",
    "# Display\n",
    "plt.show()"
   ]
  },
  {
   "cell_type": "markdown",
   "id": "cd7ad981",
   "metadata": {},
   "source": [
    "### Changing the size of the map\n",
    "\n",
    "The size of the plot is changed equally easily in this context. The only difference is that it is specified when we create the figure with the argument `figsize`. The first number represents the width, the X axis, and the second corresponds with the height, the Y axis."
   ]
  },
  {
   "cell_type": "code",
   "execution_count": null,
   "id": "4010a23c",
   "metadata": {},
   "outputs": [],
   "source": [
    "# Setup figure and axis with different size\n",
    "f, ax = plt.subplots(1, figsize=(12, 12))\n",
    "# Add layer of polygons on the axis\n",
    "cities.plot(ax=ax)\n",
    "ax.set_axis_off()\n",
    "# Display\n",
    "plt.show()"
   ]
  },
  {
   "cell_type": "markdown",
   "id": "bfce884f",
   "metadata": {},
   "source": [
    "### Modifying borders\n",
    "\n",
    "Border lines for geometries can sometimes distort proper interpretation of a map. In those cases, it is useful to know how they can be modified. Although not too complicated, the way to access borders in GeoPandas is not as straightforward as it is the case for other aspects of the map, such as size or frame. Let us first see the code to make the *lines thicker* and *black*, and then we will work our way through the different steps:"
   ]
  },
  {
   "cell_type": "code",
   "execution_count": null,
   "id": "af796280",
   "metadata": {},
   "outputs": [],
   "source": [
    "# Setup figure and axis\n",
    "f, ax = plt.subplots(1, figsize=(12, 12))\n",
    "# Add layer of polygons on the axis, set fill color (`facecolor`) and boundary\n",
    "# color (`edgecolor`)\n",
    "cities.plot(\n",
    "    linewidth=1, \n",
    "    facecolor='red', \n",
    "    edgecolor='black', \n",
    "    ax=ax\n",
    ");\n",
    "ax.set_axis_off()"
   ]
  },
  {
   "cell_type": "markdown",
   "id": "c7403b99",
   "metadata": {},
   "source": [
    "Note how the lines are thicker. In addition, all the polygons are colored in the same (default) color, light red. However, because the lines are thicker, we can only see the polygon filling for those cities with an area large enough.\n",
    "\n",
    "Let us examine line by line what we are doing in the code snippet:\n",
    "\n",
    "* We begin by creating the figure (`f`) object and one axis inside it (`ax`) where we will plot the map.\n",
    "* Then, we call `plot` as usual, but pass in two new arguments: `linewidth` for the width of the line; `facecolor`, to control the color each polygon is filled with; and `edgecolor`, to control the color of the boundary.\n",
    "\n",
    "This approach works very similarly with other geometries, such as lines. For example, if we wanted to plot the streets in red, we would simply:"
   ]
  },
  {
   "cell_type": "code",
   "execution_count": null,
   "id": "a7f53e63",
   "metadata": {},
   "outputs": [],
   "source": [
    "# Setup figure and axis\n",
    "f, ax = plt.subplots(1)\n",
    "# Add layer with lines, set them red and with different line width\n",
    "# and append it to the axis `ax`\n",
    "streets.plot(linewidth=2, color='purple', ax=ax)\n",
    "ax.set_axis_off()"
   ]
  },
  {
   "cell_type": "markdown",
   "id": "1de078b6",
   "metadata": {},
   "source": [
    "Important, note that in the case of lines the parameter to control the color is simply `color`. This is because lines do not have an area, so there is no need to distinguish between the main area (`facecolor`) and the border lines (`edgecolor`)."
   ]
  },
  {
   "cell_type": "markdown",
   "id": "9b7a8efd",
   "metadata": {},
   "source": [
    "## Composing multi-layer maps\n",
    "\n",
    "So far we have considered many aspects of plotting *a single* layer of data. However, in many cases, an effective map will require more than one: for example we might want to display streets on top of the polygons of neighborhoods, and add a few points for specific locations we want to highlight. At the very heart of maps is the possibility to combine spatial information from different sources by overlaying it on top of each other, and this is fully supported in Python.\n",
    "\n",
    "For this section, let's select only Madrid from the `cities` table and convert it to lat/lon so it's aligned with the streets and POIs layers:"
   ]
  },
  {
   "cell_type": "code",
   "execution_count": null,
   "id": "bcfb74b4",
   "metadata": {},
   "outputs": [],
   "source": [
    "mad_reproj = cities.loc[[12], :].to_crs(epsg=4326)\n",
    "mad_reproj"
   ]
  },
  {
   "cell_type": "markdown",
   "id": "52d74458",
   "metadata": {},
   "source": [
    "Combining different layers on a single map boils down to adding each of them to the same axis in a sequential way, as if we were literally overlaying one on top of the previous one. For example, let's plot the boundary of Madrid and its bars:"
   ]
  },
  {
   "cell_type": "code",
   "execution_count": null,
   "id": "3dc98e6d",
   "metadata": {},
   "outputs": [],
   "source": [
    "# Setup figure and axis\n",
    "f, ax = plt.subplots(1)\n",
    "# Add a layer with polygon on to axis `ax`\n",
    "mad_reproj.plot(ax=ax, color=\"green\")\n",
    "# Add a layer with lines on top in axis `ax`\n",
    "pois.plot(ax=ax, markersize=2, color=\"pink\")\n",
    "ax.set_axis_off()"
   ]
  },
  {
   "cell_type": "markdown",
   "id": "69f6c3c8",
   "metadata": {},
   "source": [
    "So what happens if we plot data in different CRS on the same map?"
   ]
  },
  {
   "cell_type": "code",
   "execution_count": null,
   "id": "d96f3e65",
   "metadata": {},
   "outputs": [],
   "source": [
    "mad = cities.loc[[12], :]\n",
    "\n",
    "# Setup figure and axis\n",
    "f, ax = plt.subplots(1)\n",
    "# Add a layer with polygon on to axis `ax`\n",
    "mad.plot(ax=ax, color=\"green\")\n",
    "# Add a layer with lines on top in axis `ax`\n",
    "pois.plot(ax=ax, color=\"pink\")\n",
    "ax.set_axis_off()"
   ]
  },
  {
   "cell_type": "markdown",
   "id": "d0319392",
   "metadata": {},
   "source": [
    "GeoPandas just reads the coordinates 'as they are' - and in this case Madrid and the bars in Madrid end up very far from each other because of CRS-mismatch.\n",
    "\n",
    "## Exporting maps\n",
    "\n",
    "Once we have produced a map we are content with, we might want to save it to a file so we can include it into a report, article, website, etc. To export maps with GeoPandas we use   `plt.savefig` before showing it with `plt.show` at the end of the code block. For example to save the previous map into a `png` file into a sub-directory 'files':"
   ]
  },
  {
   "cell_type": "code",
   "execution_count": null,
   "id": "d3b98ce2",
   "metadata": {},
   "outputs": [],
   "source": [
    "# Setup figure and axis\n",
    "f, ax = plt.subplots(1)\n",
    "# Add a layer with polygon on to axis `ax`\n",
    "mad_reproj.plot(ax=ax, color=\"green\")\n",
    "# Add a layer with lines on top in axis `ax`\n",
    "pois.plot(ax=ax, markersize=2, color=\"pink\")\n",
    "ax.set_axis_off()\n",
    "# Save figure to a PNG file\n",
    "plt.savefig('files/madrid_bars.png')"
   ]
  },
  {
   "cell_type": "markdown",
   "id": "31929e04",
   "metadata": {},
   "source": [
    "If you now check on the files folder, you'll find a `png` (image) file with the map.\n",
    "\n",
    "The command `plt.savefig` contains a large number of options and additional parameters to tweak. Given the size of the figure created is not very large, we can increase this with the argument `dpi`, which stands for \"dots per inch\" and it's a standard measure of resolution in images. For example, for a high quality image, we could use 500:"
   ]
  },
  {
   "cell_type": "code",
   "execution_count": null,
   "id": "e5527ce9",
   "metadata": {},
   "outputs": [],
   "source": [
    "# Setup figure and axis\n",
    "f, ax = plt.subplots(1)\n",
    "# Add a layer with polygon on to axis `ax`\n",
    "mad_reproj.plot(ax=ax, color=\"green\")\n",
    "# Add a layer with lines on top in axis `ax`\n",
    "pois.plot(ax=ax, markersize=2, color=\"pink\")\n",
    "ax.set_axis_off()\n",
    "# Save figure to a PNG file\n",
    "plt.savefig('files/madrid_bars.png', dpi=500)"
   ]
  },
  {
   "cell_type": "markdown",
   "id": "7fb6a2b8",
   "metadata": {},
   "source": [
    "## Adding base layers from web sources\n",
    "\n",
    "Many single datasets lack context when displayed on their own. A common approach to alleviate this is to use web tiles, which are a way of quickly obtaining geographical context to present spatial data. In Python, we can use [`contextily`](https://contextily.readthedocs.io) to pull down tiles and display them along with our own geographic data. Notice that this requires an internet connection, if you have not saved the base maps locally!\n",
    "\n",
    "We can begin by creating a map in the same way we would do normally, and then use the `add_basemap` command to add a basemap:"
   ]
  },
  {
   "cell_type": "markdown",
   "id": "03d6faa3-4e8b-4697-91a6-253e16dc8403",
   "metadata": {},
   "source": [
    "Note: The default contextily basemap, Stamen, is broken since 2023, so we need to specify another one, for example: `source=cx.providers.CartoDB.Positron`"
   ]
  },
  {
   "cell_type": "code",
   "execution_count": null,
   "id": "82bb3fde",
   "metadata": {},
   "outputs": [],
   "source": [
    "ax = cities.plot(color=\"red\")\n",
    "ax.set_axis_off()\n",
    "cx.add_basemap(ax, source=cx.providers.CartoDB.Positron);"
   ]
  },
  {
   "cell_type": "markdown",
   "id": "b6a3f399-8684-41f7-afdc-09069a06f5f1",
   "metadata": {},
   "source": [
    "Oops, something went wrong! We also need to tell contextily which CRS to use:"
   ]
  },
  {
   "cell_type": "code",
   "execution_count": null,
   "id": "48731287-8c85-4645-86db-c881ec7f2a6c",
   "metadata": {},
   "outputs": [],
   "source": [
    "ax = cities.plot(color=\"black\")\n",
    "ax.set_axis_off()\n",
    "cx.add_basemap(ax, crs=cities.crs, source=cx.providers.CartoDB.Positron);"
   ]
  },
  {
   "cell_type": "markdown",
   "id": "1fe34006",
   "metadata": {},
   "source": [
    "Web tiles can be integrated with other features of maps in a similar way as we have seen above. So, for example, we can change the size of the map, and remove the axis. Let's use Madrid for this example:"
   ]
  },
  {
   "cell_type": "code",
   "execution_count": null,
   "id": "a717f17c",
   "metadata": {},
   "outputs": [],
   "source": [
    "f, ax = plt.subplots(1, figsize=(9, 9))\n",
    "mad.plot(alpha=0.5, ax=ax)\n",
    "ax.set_axis_off()\n",
    "cx.add_basemap(ax, crs=mad.crs, source=cx.providers.CartoDB.Positron)"
   ]
  },
  {
   "cell_type": "markdown",
   "id": "518dc38f",
   "metadata": {},
   "source": [
    "`contextily` offers a lot of options in terms of the sources and providers you can use to create your basemaps. For example, we can use satellite imagery instead:"
   ]
  },
  {
   "cell_type": "code",
   "execution_count": null,
   "id": "c85b82f6",
   "metadata": {},
   "outputs": [],
   "source": [
    "f, ax = plt.subplots(1, figsize=(9, 9))\n",
    "mad.plot(alpha=0.5, ax=ax)\n",
    "cx.add_basemap(\n",
    "    ax, \n",
    "    crs=mad.crs,\n",
    "    source=cx.providers.Esri.WorldImagery\n",
    ")\n",
    "ax.set_axis_off()"
   ]
  },
  {
   "cell_type": "markdown",
   "id": "9d66ae18",
   "metadata": {},
   "source": [
    "Have a look the documentation [https://contextily.readthedocs.io/en/latest/](https://contextily.readthedocs.io/en/latest/) or at this Twitter thread to get some further ideas on providers:"
   ]
  },
  {
   "cell_type": "code",
   "execution_count": null,
   "id": "0d7da097",
   "metadata": {
    "scrolled": true,
    "tags": [
     "remove-input"
    ]
   },
   "outputs": [],
   "source": [
    "from IPython.display import HTML\n",
    "tweet = \"\"\"\n",
    "<blockquote class=\"twitter-tweet\" data-lang=\"en\"><p lang=\"et\" dir=\"ltr\">Terrain maps <a href=\"https://t.co/VtN9bGG5Mt\">pic.twitter.com/VtN9bGG5Mt</a></p>&mdash; Dani Arribas-Bel (@darribas) <a href=\"https://twitter.com/darribas/status/1157297596689539072?ref_src=twsrc%5Etfw\">August 2, 2019</a></blockquote>\n",
    "<script async src=\"https://platform.twitter.com/widgets.js\" charset=\"utf-8\"></script>\n",
    "\"\"\"\n",
    "HTML(tweet)"
   ]
  },
  {
   "cell_type": "markdown",
   "id": "24a5c864",
   "metadata": {},
   "source": [
    "## Summary\n",
    "\n",
    "That's it! In this section we have learned how to:\n",
    "\n",
    "1. Load and save vector data using GeoPandas\n",
    "2. Do different spatial operations such as buffers and point-in-polygon queries\n",
    "3. Using Matplotlib to make maps + how to modify basic mapping settings"
   ]
  },
  {
   "cell_type": "markdown",
   "id": "d0c5e9b4",
   "metadata": {},
   "source": [
    "# PART 2: Map projections\n",
    "\n",
    "We have already discussed why it is important to check if your data are in the correct CRS, based on what you will use it for, and above we saw why data must be in the same CRS when plotted on the same map.\n",
    "    \n",
    "<img src=\"files/Map-projections.png\">\n",
    "\n",
    "*Source: XKCD, See a full comic about [\"What your favorite map projection tells about you\"](https://xkcd.com/977/)*.\n",
    "\n",
    "## Coordinate reference system (CRS) in Geopandas\n",
    "\n",
    "Luckily, defining and changing projections is easy using Geopandas and a library called [pyproj](https://pyproj4.github.io/pyproj/stable/). In this tutorial we will see how to **retrieve the coordinate reference system information** from the data, and how to **re-project** the data into another crs. We will re-project a data file from\n",
    "WGS84 (lat, lon coordinates) into a Lambert Azimuthal Equal Area projection which is the [recommended projection for Europe](http://mapref.org/LinkedDocuments/MapProjectionsForEurope-EUR-20120.pdf) by European Commission.\n",
    "\n",
    "For this tutorial we will be using a Geopackage called `Europe_borders.gpkg` representing the country borders in Europe.\n",
    "When reading the data into `GeoDataFrame` with Geopandas crs information is automatically stored into the `.crs` attribute of the GeoDataFrame.\n",
    "\n",
    "In Shapefiles, information about the coordinate reference system is stored in the `.prj` -file. If this file is missing, you might be in trouble!\n",
    "\n",
    "Let's start by reading the data from the `Europe_borders.gpkg` file and checking the `crs`: "
   ]
  },
  {
   "cell_type": "code",
   "execution_count": null,
   "id": "05c23cc3",
   "metadata": {},
   "outputs": [],
   "source": [
    "# Read the file\n",
    "fp = \"files/europe_borders.gpkg\"\n",
    "data = gpd.read_file(fp)"
   ]
  },
  {
   "cell_type": "code",
   "execution_count": null,
   "id": "b7e184d4",
   "metadata": {},
   "outputs": [],
   "source": [
    "# Check the coordinate reference system\n",
    "data.crs"
   ]
  },
  {
   "cell_type": "markdown",
   "id": "07023c67",
   "metadata": {},
   "source": [
    "What we see here is in fact a **CRS object** from the **pyproj** module. \n",
    "\n",
    "The EPSG code of our geodataframe is`4326`, which refers to the WGS84 coordinate system.\n",
    "\n",
    "You can find a lot of information and lists of available coordinate reference systems from:\n",
    "\n",
    "  - [www.spatialreference.org](http://spatialreference.org/)\n",
    "  - [www.proj4.org](https://proj4.org/operations/projections/)\n",
    "  - [www.mapref.org](http://mapref.org/CollectionofCRSinEurope.html)"
   ]
  },
  {
   "cell_type": "markdown",
   "id": "3a74e6dd",
   "metadata": {},
   "source": [
    "Let's continue by checking the values in our `geometry`-column to verify that the CRS of our GeoDataFrame seems correct. In the case of EPSG:4326, coordinates should be between -180 and 180° longitude and -90 and 90° latitude."
   ]
  },
  {
   "cell_type": "code",
   "execution_count": null,
   "id": "ec94e447",
   "metadata": {},
   "outputs": [],
   "source": [
    "data['geometry'].head()"
   ]
  },
  {
   "cell_type": "markdown",
   "id": "aa3cd955",
   "metadata": {},
   "source": [
    "As we can see, the coordinate values of the Polygons indeed look like latitude and longitude values, so everything seems to be in order.\n",
    "\n",
    "WGS84 projection is not really a good one for representing European borders on a map (areas get distorted), so let's convert those geometries into Lambert Azimuthal Equal Area (LAEA) projection ([EPSG: 3035](http://spatialreference.org/ref/epsg/etrs89-etrs-laea/)) which is the recommended projection by European Comission.\n",
    "\n",
    "Changing the projection is simple [to do](https://geopandas.org/en/stable/docs/user_guide/projections.html#re-projecting) in GeoPandas with the `.to_crs()`-function, which is a built-in function of the GeoDataFrame. The function has two alternative parameters 1) `crs` and 2) `epgs` that can be used to make the coordinate transformation and re-project the data into the CRS that you want to use.\n",
    "\n",
    "Let's re-project our data into `EPSG:3035` using the `epsg`-parameter:"
   ]
  },
  {
   "cell_type": "code",
   "execution_count": null,
   "id": "ee7231e9",
   "metadata": {},
   "outputs": [],
   "source": [
    "# Let's make a backup copy of our data\n",
    "data_wgs84 = data.copy()\n",
    "\n",
    "# Reproject the data\n",
    "data = data.to_crs(epsg=3035)\n",
    "\n",
    "# Check the new geometry values\n",
    "data['geometry'].head()"
   ]
  },
  {
   "cell_type": "code",
   "execution_count": null,
   "id": "b8dc9592",
   "metadata": {},
   "outputs": [],
   "source": [
    "data.crs"
   ]
  },
  {
   "cell_type": "markdown",
   "id": "d1aa4d4d",
   "metadata": {},
   "source": [
    "And here we go, the coordinate values in the geometries have changed! Now we have successfully changed the projection of our layer into a new one, i.e. to `ETRS-LAEA` projection. \n",
    "\n",
    "To really understand what is going on, it is good to explore our data visually. Let's compare the datasets by making\n",
    "maps out of them.\n"
   ]
  },
  {
   "cell_type": "code",
   "execution_count": null,
   "id": "7b7baa33",
   "metadata": {},
   "outputs": [],
   "source": [
    "# Make subplots that are next to each other\n",
    "fig, (ax1, ax2) = plt.subplots(nrows=1, ncols=2, figsize=(12, 12))\n",
    "\n",
    "# Plot the data in WGS84 CRS\n",
    "data_wgs84.plot(ax=ax1, facecolor='gray')\n",
    "\n",
    "# Add title\n",
    "ax1.set_title(\"WGS84\")\n",
    "\n",
    "# Plot the one with ETRS-LAEA projection\n",
    "data.plot(ax=ax2, facecolor='blue')\n",
    "\n",
    "#ax1.set_axis_off()\n",
    "\n",
    "# Add title\n",
    "ax2.set_title(\"ETRS Lambert Azimuthal Equal Area projection\")\n",
    "\n",
    "#ax2.set_axis_off()\n",
    "\n",
    "# Set aspect ratio as 1\n",
    "ax1.set_aspect(aspect=1)\n",
    "ax2.set_aspect(aspect=1)\n",
    "\n",
    "# Remove empty white space around the plot\n",
    "plt.tight_layout()"
   ]
  },
  {
   "cell_type": "markdown",
   "id": "8050b23e",
   "metadata": {},
   "source": [
    "Indeed, the maps look quite different, and the re-projected one looks much better in Europe as the areas especially in the north are more realistic and not so stretched as in WGS84.\n",
    "\n",
    "Finally, let's save our projected layer so that we can use it later. Note, even if the CRS information is stored in the file, it can be a good idea also to include CRS info in the filename:"
   ]
  },
  {
   "cell_type": "code",
   "execution_count": null,
   "id": "f647482f",
   "metadata": {},
   "outputs": [],
   "source": [
    "# Save to disk\n",
    "data.to_file(\"files/europe_borders_epsg3035.gpkg\")"
   ]
  },
  {
   "cell_type": "markdown",
   "id": "4f130dd6",
   "metadata": {},
   "source": [
    "## Global map projections\n",
    "\n",
    "Finally, let's play around with global map projections. The files folder contains a layer `ne_110m_admin_0_countries.shp` that represents the country borders of the world. The data was downloaded from https://www.naturalearthdata.com/. "
   ]
  },
  {
   "cell_type": "code",
   "execution_count": null,
   "id": "436c5d91",
   "metadata": {},
   "outputs": [],
   "source": [
    "# Read in data\n",
    "fp = \"files/ne_10m_admin_0_countries/ne_10m_admin_0_countries.shp\" \n",
    "\n",
    "admin = gpd.read_file(fp)\n",
    "\n",
    "# Check input crs\n",
    "admin.crs"
   ]
  },
  {
   "cell_type": "code",
   "execution_count": null,
   "id": "c9061e50",
   "metadata": {},
   "outputs": [],
   "source": [
    "# Set fig size\n",
    "plt.rcParams['figure.figsize'] = [12, 6]\n",
    "\n",
    "#Plot in original crs\n",
    "admin.plot()\n",
    "plt.title(\"WGS84\");\n"
   ]
  },
  {
   "cell_type": "code",
   "execution_count": null,
   "id": "fd532375",
   "metadata": {},
   "outputs": [],
   "source": [
    "# Re-project and plot\n",
    "admin.to_crs('EPSG:3785').plot()\n",
    "\n",
    "plt.axis('off')\n",
    "plt.title(\"Web mercator\");"
   ]
  },
  {
   "cell_type": "code",
   "execution_count": null,
   "id": "fafe2784",
   "metadata": {},
   "outputs": [],
   "source": [
    "# Re-project and plot\n",
    "admin.to_crs(\"ESRI:54012\").plot()\n",
    "\n",
    "plt.title(\"Eckert IV\");"
   ]
  },
  {
   "cell_type": "markdown",
   "id": "1689c254",
   "metadata": {},
   "source": [
    "It is also possible to modify projections - for example to be centered on a specific country:"
   ]
  },
  {
   "cell_type": "code",
   "execution_count": null,
   "id": "084472da",
   "metadata": {},
   "outputs": [],
   "source": [
    "# Define an orthographic projection, centered in Denmark! from: http://www.statsmapsnpix.com/2019/09/globe-projections-and-insets-in-qgis.html\n",
    "ortho = CRS.from_proj4(\"+proj=ortho +lat_0=56.3 +lon_0=9.5 +x_0=0 +y_0=0 +a=6370997 +b=6370997 +units=m +no_defs\")\n",
    "\n",
    "# Re-project and plot\n",
    "admin.to_crs(ortho).plot()\n",
    "\n",
    "# Remove x and y axis\n",
    "plt.axis('off')\n",
    "plt.title(\"Orthographic\");"
   ]
  },
  {
   "cell_type": "markdown",
   "id": "3d825014",
   "metadata": {},
   "source": [
    "For more advanced options for dealing with CRS, see the last section.\n",
    "\n",
    "## EXTRA: Dealing with different CRS formats"
   ]
  },
  {
   "cell_type": "markdown",
   "id": "dc8a898c",
   "metadata": {},
   "source": [
    "There are various ways to present Coordinate Reference System information, such as [PROJ strings](https://proj.org/usage/quickstart.html), `EPSG-codes`, `Well-Known-Text (WKT)`, `JSON`. It is likely that you will encounter some of these when working with spatial data obtained from different sources. Being able to convert the CRS information from one format to another is needed every now and then, hence, it is useful to know a few tricks how to do this.\n",
    "\n",
    "Luckily, dealing with CRS information is easy in Python using the [pyproj](https://pyproj4.github.io/pyproj/stable/) library. In fact, `pyproj` is a Python wrapper around a software called [PROJ](https://proj.org/) (maintained by [OSGeo](https://www.osgeo.org/) community), which is widely used tool for conducting coordinate transformations in various GIS softwares. `Pyproj` is also used under the hood in Geopandas, and it handles all the CRS definitions and coordinate transformations (reprojecting from CRS to another as we did earlier)."
   ]
  },
  {
   "cell_type": "markdown",
   "id": "ae945851",
   "metadata": {},
   "source": [
    "### Overview\n",
    "\n",
    "The following code cell prints out a summary summary of different ways of representing crs information using pyproj CRS. Here, we use the crs of the original European borders layer as a starting point:"
   ]
  },
  {
   "cell_type": "code",
   "execution_count": null,
   "id": "43a8cd8f",
   "metadata": {},
   "outputs": [],
   "source": [
    "### Import CRS class from pyproj\n",
    "from pyproj import CRS"
   ]
  },
  {
   "cell_type": "code",
   "execution_count": null,
   "id": "fb2e8f7b",
   "metadata": {},
   "outputs": [],
   "source": [
    "# PROJ dictionary:\n",
    "crs_dict = data_wgs84.crs\n",
    "\n",
    "# pyproj CRS object:\n",
    "crs_object = CRS(data_wgs84.crs)\n",
    "\n",
    "# EPSG code (here, the input crs information is a bit vague so we need to lower the confidence threshold)\n",
    "crs_epsg = CRS(data_wgs84.crs).to_epsg(min_confidence=25)\n",
    "\n",
    "# PROJ string\n",
    "crs_proj4 = CRS(data_wgs84.crs).to_proj4()\n",
    "\n",
    "# Well-Known Text (WKT)\n",
    "crs_wkt = CRS(data_wgs84.crs).to_wkt()"
   ]
  },
  {
   "cell_type": "code",
   "execution_count": null,
   "id": "d2b61827",
   "metadata": {},
   "outputs": [],
   "source": [
    "print(\"PROJ dictionary:\\n\", crs_dict)\n",
    "print(\"\\nCRS object:\\n\", crs_object)\n",
    "print(\"\\nEPSG code: \\n\", crs_epsg)\n",
    "print(\"\\nPROJ string: \\n\", crs_proj4)\n",
    "print(\"\\nWell-Known Text (WKT):\\n\",crs_wkt) "
   ]
  },
  {
   "cell_type": "markdown",
   "id": "0c443a73",
   "metadata": {},
   "source": [
    "### Pyproj CRS object\n",
    "\n",
    "Next, let's see how it is possible to easily extract useful information from CRS, and transform CRS information from format to another. `pyproj` -library has a [class](https://docs.python.org/3/tutorial/classes.html) called [CRS](https://pyproj4.github.io/pyproj/dev/api/crs.html) that provides many useful functionalities for dealing with CRS information."
   ]
  },
  {
   "cell_type": "code",
   "execution_count": null,
   "id": "f2e9899c",
   "metadata": {},
   "outputs": [],
   "source": [
    "# Let's see the current CRS of our data\n",
    "print(data.crs)"
   ]
  },
  {
   "cell_type": "markdown",
   "id": "0aa4905d",
   "metadata": {},
   "source": [
    "Printing the crs using the print() statement gives us the EPSG code. \n",
    "\n",
    "However, let's see what the same information looks like in other formats such as `WKT` or `Proj4` text. For this we need to use the `CRS` class.  "
   ]
  },
  {
   "cell_type": "code",
   "execution_count": null,
   "id": "380680ba",
   "metadata": {},
   "outputs": [],
   "source": [
    "# Initialize the CRS class for epsg code 3035:\n",
    "crs_object = CRS.from_epsg(3035)\n",
    "crs_object"
   ]
  },
  {
   "cell_type": "markdown",
   "id": "86d64e19",
   "metadata": {},
   "source": [
    "As we can see, the `CRS` object contains information about the coordinate reference system such as the **name** of the CRS (ETRS89/LAEA Europe), the **area** where the CRS is in use (*Europe* with bounds *(-16.1, 32.88, 40.18, 84.17)*), and the **datum** (European Terrestrial Reference System 1989). \n",
    "\n",
    "We can also easily parse this information individually as follows: "
   ]
  },
  {
   "cell_type": "code",
   "execution_count": null,
   "id": "d03a4954",
   "metadata": {},
   "outputs": [],
   "source": [
    "# Name\n",
    "print(\"Name:\", crs_object.name)\n",
    "\n",
    "# Coordinate system\n",
    "print(\"Coordinate system:\", crs_object.coordinate_system)\n",
    "\n",
    "# Bounds of the area where CRS is used\n",
    "print(\"Bounds:\", crs_object.area_of_use.bounds)"
   ]
  },
  {
   "cell_type": "markdown",
   "id": "031565a7",
   "metadata": {},
   "source": [
    "You can explore all the possible information that can be extracted from the CRS by typing `crs_object.` and pressing Tabulator. \n",
    "\n",
    "Let's see how we can convert the crs information from one format to another. Quite often it is useful to know the EPSG code of the CRS. Next, we will conduct a few transformations to demonstrate the capabilities of the `CRS` class."
   ]
  },
  {
   "cell_type": "code",
   "execution_count": null,
   "id": "819077df",
   "metadata": {},
   "outputs": [],
   "source": [
    "# Retrieve CRS information in WKT format\n",
    "crs_wkt = crs_object.to_wkt()\n",
    "print(crs_wkt)"
   ]
  },
  {
   "cell_type": "markdown",
   "id": "f64758ef",
   "metadata": {},
   "source": [
    "As we can see, the **WKT** format contains a *lot* of information. Typically, e.g. the `.prj` file of a Shapefile contains the information in this format. Let's see how it is possible to extract **EPSG** code from this. For doing it, we need to re-initialize the CRS object, this time from the WKT text presentation.   "
   ]
  },
  {
   "cell_type": "code",
   "execution_count": null,
   "id": "62933f3a",
   "metadata": {},
   "outputs": [],
   "source": [
    "# Retrieve EPSG code from WKT text\n",
    "epsg = CRS(crs_wkt).to_epsg()\n",
    "print(epsg)"
   ]
  },
  {
   "cell_type": "markdown",
   "id": "4b093973",
   "metadata": {},
   "source": [
    "**HINT**: A module called [PyCRS](https://github.com/karimbahgat/PyCRS) can also be useful library as it contains information and supports many different coordinate reference definitions, such as OGC WKT (v1), ESRI WKT, Proj4, and any EPSG, ESRI, or SR-ORG code available from spatialreference.org."
   ]
  },
  {
   "cell_type": "markdown",
   "id": "a5d61836",
   "metadata": {},
   "source": [
    "## Summary\n",
    "\n",
    "That's it! In this section we have learned how to:\n",
    "\n",
    "1. Reproject (transform) the geometries in a GeoDataFrame from one CRS to another using the `to_crs()`-method\n",
    "2. Define the coordinate reference system in different formats using `pyproj` `CRS`"
   ]
  }
 ],
 "metadata": {
  "kernelspec": {
   "display_name": "Python 3 (ipykernel)",
   "language": "python",
   "name": "python3"
  },
  "language_info": {
   "codemirror_mode": {
    "name": "ipython",
    "version": 3
   },
   "file_extension": ".py",
   "mimetype": "text/x-python",
   "name": "python",
   "nbconvert_exporter": "python",
   "pygments_lexer": "ipython3",
   "version": "3.9.12"
  },
  "vscode": {
   "interpreter": {
    "hash": "09273b9d70777594a7b7f3f6c3e8e91be451f5d194695438b5ebcc24128e9f82"
   }
  }
 },
 "nbformat": 4,
 "nbformat_minor": 5
}
