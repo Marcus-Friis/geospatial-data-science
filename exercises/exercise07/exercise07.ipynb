{
 "cells": [
  {
   "cell_type": "markdown",
   "metadata": {},
   "source": [
    "<div class=\"frontmatter text-center\">\n",
    "<h1>Geospatial Data Science</h1>\n",
    "<h2>Exercise 7: Clustering</h2>\n",
    "<h3>IT University of Copenhagen, Spring 2023</h3>\n",
    "<h3>Instructor: Ditte Stavski</h3>\n",
    "</div>\n",
    "\n",
    "This notebook was adapted from:\n",
    "* A course on geographic data science: https://darribas.org/gds_course/content/bG/diy_G.html"
   ]
  },
  {
   "cell_type": "code",
   "execution_count": 1,
   "metadata": {},
   "outputs": [
    {
     "name": "stderr",
     "output_type": "stream",
     "text": [
      "ERROR 1: PROJ: proj_create_from_database: Open of /opt/conda/share/proj failed\n"
     ]
    }
   ],
   "source": [
    "# import packages\n",
    "\n",
    "import geopandas as gpd\n",
    "import pandas as pd\n",
    "import numpy as np\n",
    "\n",
    "from sklearn import cluster\n",
    "from pysal.lib import weights\n",
    "from pysal.lib import examples\n",
    "\n",
    "import matplotlib.pyplot as plt\n",
    "import seaborn as sns\n",
    "import contextily as cx"
   ]
  },
  {
   "cell_type": "markdown",
   "metadata": {},
   "source": [
    "## Task I: NYC Geodemographics\n",
    "\n",
    "We are going to try to get at the (geographic) essence of New York City. For that, we will rely on a data set of the census tracts for New York City we used for exercise 4 (from the [PySAL examples](https://pysal.org/libpysal/tutorial.html?highlight=examples#example-datasets)). Once you have the `nyc` object loaded, create a geodemographic classification using the following variables:\n",
    "\n",
    "- `european`: Population White\n",
    "- `asian`: Population Asian American\n",
    "- `american`: Population American Indian\n",
    "- `african`: Population African American\n",
    "- `hispanic`: Population Hispanic\n",
    "- `mixed`: Population Mixed race\n",
    "- `pacific`: Population Pacific Islander\n",
    "- `otherethni`: Population of other ethnicity\n",
    "\n",
    "Before performing the clustering, make sure to standardize these variables (by using percentages instead of absolute numbers). NB: Compute the total population for each tract yourself (do *not* use the \"poptot\" column from the data set as this will lead to discrepancies.) The resulting values should range from 0 (no population of a given ethnic group in that tract) to 1 (all population of that tract is in the given ethnic group). Once this is ready, get to work with the following tasks:\n",
    "\n",
    "1. Pick a number of clusters, N\n",
    "1. Run K-Means for N clusters\n",
    "1. Plot the different clusters on a map\n",
    "1. Analyse the results, using for example bar plots, the KDE-plots from the lectures, etc.:\n",
    "    - *What do you find?*\n",
    "    - *What are the main characteristics of each cluster?*\n",
    "    - *How are clusters distributed geographically?*\n",
    "    - *Can you identify some groups concentrated on particular areas (e.g. China Town, Little Italy)?*\n",
    "1. Redo with a different N; how do results depend on the number of chosen clusters?"
   ]
  },
  {
   "cell_type": "code",
   "execution_count": 2,
   "metadata": {},
   "outputs": [
    {
     "name": "stdout",
     "output_type": "stream",
     "text": [
      "not available\n"
     ]
    }
   ],
   "source": [
    "examples.explain(\"NYC Socio-Demographics\")"
   ]
  },
  {
   "cell_type": "code",
   "execution_count": null,
   "metadata": {},
   "outputs": [
    {
     "name": "stdout",
     "output_type": "stream",
     "text": [
      "Example not available: NYC Socio-Demographics\n",
      "Downloading AirBnB to /home/jovyan/.local/share/pysal/AirBnB\n",
      "Downloading Atlanta to /home/jovyan/.local/share/pysal/Atlanta\n",
      "Downloading Baltimore to /home/jovyan/.local/share/pysal/Baltimore\n",
      "Downloading Bostonhsg to /home/jovyan/.local/share/pysal/Bostonhsg\n",
      "Downloading Buenosaires to /home/jovyan/.local/share/pysal/Buenosaires\n",
      "Downloading Ceará Zika to /home/jovyan/.local/share/pysal/Ceará_Zika\n",
      "Downloading Charleston1 to /home/jovyan/.local/share/pysal/Charleston1\n",
      "Downloading Charleston2 to /home/jovyan/.local/share/pysal/Charleston2\n",
      "Downloading Chicago Carjackings to /home/jovyan/.local/share/pysal/Chicago_Carjackings\n",
      "Downloading Chicago Community Areas to /home/jovyan/.local/share/pysal/Chicago_Community_Areas\n",
      "Downloading Chicago Health to /home/jovyan/.local/share/pysal/Chicago_Health\n",
      "Downloading Chicago SDOH to /home/jovyan/.local/share/pysal/Chicago_SDOH\n",
      "Downloading Chicago commpop to /home/jovyan/.local/share/pysal/Chicago_commpop\n",
      "Example not downloaded: Chicago parcels\n",
      "Downloading Chile Labor to /home/jovyan/.local/share/pysal/Chile_Labor\n",
      "Example not downloaded: Chile Migration\n",
      "Downloading Cincinnati to /home/jovyan/.local/share/pysal/Cincinnati\n",
      "Downloading Cleveland to /home/jovyan/.local/share/pysal/Cleveland\n",
      "Downloading Columbus to /home/jovyan/.local/share/pysal/Columbus\n",
      "Downloading Elections to /home/jovyan/.local/share/pysal/Elections\n",
      "Downloading Grid100 to /home/jovyan/.local/share/pysal/Grid100\n",
      "Downloading Groceries to /home/jovyan/.local/share/pysal/Groceries\n",
      "Downloading Guerry to /home/jovyan/.local/share/pysal/Guerry\n",
      "Downloading Health Indicators to /home/jovyan/.local/share/pysal/Health_Indicators\n",
      "Downloading Health+ to /home/jovyan/.local/share/pysal/Health+\n",
      "Downloading Hickory1 to /home/jovyan/.local/share/pysal/Hickory1\n",
      "Downloading Hickory2 to /home/jovyan/.local/share/pysal/Hickory2\n",
      "Downloading Home Sales to /home/jovyan/.local/share/pysal/Home_Sales\n",
      "Downloading Houston to /home/jovyan/.local/share/pysal/Houston\n",
      "Downloading Italy Community Banks to /home/jovyan/.local/share/pysal/Italy_Community_Banks\n",
      "Downloading Juvenile to /home/jovyan/.local/share/pysal/Juvenile\n",
      "Downloading Lansing1 to /home/jovyan/.local/share/pysal/Lansing1\n",
      "Downloading Lansing2 to /home/jovyan/.local/share/pysal/Lansing2\n",
      "Downloading Laozone to /home/jovyan/.local/share/pysal/Laozone\n",
      "Downloading LasRosas to /home/jovyan/.local/share/pysal/LasRosas\n",
      "Downloading Liquor Stores to /home/jovyan/.local/share/pysal/Liquor_Stores\n",
      "Downloading Malaria to /home/jovyan/.local/share/pysal/Malaria\n",
      "Downloading Milwaukee1 to /home/jovyan/.local/share/pysal/Milwaukee1\n",
      "Downloading Milwaukee2 to /home/jovyan/.local/share/pysal/Milwaukee2\n",
      "Downloading NCOVR to /home/jovyan/.local/share/pysal/NCOVR\n",
      "Downloading NDVI to /home/jovyan/.local/share/pysal/NDVI\n",
      "Downloading NYC to /home/jovyan/.local/share/pysal/NYC\n",
      "Downloading NYC Earnings to /home/jovyan/.local/share/pysal/NYC_Earnings\n",
      "Downloading NYC Education to /home/jovyan/.local/share/pysal/NYC_Education\n",
      "Downloading NYC Neighborhoods to /home/jovyan/.local/share/pysal/NYC_Neighborhoods\n",
      "Downloading NYC Socio-Demographics to /home/jovyan/.local/share/pysal/NYC_Socio-Demographics\n",
      "Downloading Natregimes to /home/jovyan/.local/share/pysal/Natregimes\n",
      "Downloading Nepal to /home/jovyan/.local/share/pysal/Nepal\n",
      "Downloading Oaxaca Development to /home/jovyan/.local/share/pysal/Oaxaca_Development\n",
      "Downloading Ohiolung to /home/jovyan/.local/share/pysal/Ohiolung\n",
      "Downloading Orlando1 to /home/jovyan/.local/share/pysal/Orlando1\n",
      "Downloading Orlando2 to /home/jovyan/.local/share/pysal/Orlando2\n",
      "Downloading Oz9799 to /home/jovyan/.local/share/pysal/Oz9799\n",
      "Downloading Phoenix ACS to /home/jovyan/.local/share/pysal/Phoenix_ACS\n",
      "Downloading Pittsburgh to /home/jovyan/.local/share/pysal/Pittsburgh\n",
      "Downloading Police to /home/jovyan/.local/share/pysal/Police\n",
      "Downloading Rio Grande do Sul to /home/jovyan/.local/share/pysal/Rio_Grande_do_Sul\n",
      "Downloading SIDS to /home/jovyan/.local/share/pysal/SIDS\n",
      "Downloading SIDS2 to /home/jovyan/.local/share/pysal/SIDS2\n",
      "Downloading Sacramento1 to /home/jovyan/.local/share/pysal/Sacramento1\n",
      "Downloading Sacramento2 to /home/jovyan/.local/share/pysal/Sacramento2\n",
      "Downloading SanFran Crime to /home/jovyan/.local/share/pysal/SanFran_Crime\n",
      "Downloading Savannah1 to /home/jovyan/.local/share/pysal/Savannah1\n",
      "Downloading Savannah2 to /home/jovyan/.local/share/pysal/Savannah2\n",
      "Downloading Scotlip to /home/jovyan/.local/share/pysal/Scotlip\n",
      "Downloading Seattle1 to /home/jovyan/.local/share/pysal/Seattle1\n",
      "Downloading Seattle2 to /home/jovyan/.local/share/pysal/Seattle2\n",
      "Downloading Snow to /home/jovyan/.local/share/pysal/Snow\n",
      "Downloading South to /home/jovyan/.local/share/pysal/South\n",
      "Example not downloaded: Spirals\n",
      "Downloading StLouis to /home/jovyan/.local/share/pysal/StLouis\n",
      "Downloading Tampa1 to /home/jovyan/.local/share/pysal/Tampa1\n"
     ]
    }
   ],
   "source": [
    "# Load data\n",
    "nyc_data = examples.load_example(\"NYC Socio-Demographics\")\n",
    "\n",
    "nyc = gpd.read_file(nyc_data.get_path(\"NYC_Tract_ACS2008_12.shp\"))\n",
    "\n",
    "nyc.plot(figsize=(9, 9));"
   ]
  },
  {
   "cell_type": "code",
   "execution_count": null,
   "metadata": {},
   "outputs": [],
   "source": [
    "# Your solution for Task I"
   ]
  },
  {
   "cell_type": "markdown",
   "metadata": {},
   "source": [
    "## Task II: Regionalisation of Dar Es Salaam\n",
    "\n",
    "For this task we will travel to Tanzania's Dar Es Salaam. We are using a dataset assembled to describe the built environment of the city centre. Let's load up the dataset first.\n",
    "\n",
    "**Make sure you are connected to the internet when you run this cell.**\n"
   ]
  },
  {
   "cell_type": "code",
   "execution_count": null,
   "metadata": {},
   "outputs": [],
   "source": [
    "# Read the file in\n",
    "db = gpd.read_file(\"http://darribas.org/gds_course/content/data/dar_es_salaam.geojson\")"
   ]
  },
  {
   "cell_type": "code",
   "execution_count": null,
   "metadata": {},
   "outputs": [],
   "source": [
    "db.head()"
   ]
  },
  {
   "cell_type": "markdown",
   "metadata": {},
   "source": [
    "Geographically, this is what we are looking at:"
   ]
  },
  {
   "cell_type": "code",
   "execution_count": null,
   "metadata": {
    "tags": [
     "hide-input"
    ]
   },
   "outputs": [],
   "source": [
    "ax = db.plot(\n",
    "    facecolor=\"none\", \n",
    "    edgecolor=\"red\",\n",
    "    linewidth=0.5,\n",
    "    figsize=(20, 20)\n",
    ")\n",
    "cx.add_basemap(\n",
    "    ax, \n",
    "    crs=db.crs, \n",
    "    source=cx.providers.Esri.WorldImagery\n",
    ")"
   ]
  },
  {
   "cell_type": "markdown",
   "metadata": {},
   "source": [
    "\n",
    "We can inspect the table:"
   ]
  },
  {
   "cell_type": "code",
   "execution_count": null,
   "metadata": {},
   "outputs": [],
   "source": [
    "db.info()"
   ]
  },
  {
   "cell_type": "markdown",
   "metadata": {},
   "source": [
    "Two main aspects of the built environment are considered: the street network and buildings. To capture those, the following variables are calculated at for the H3 hexagonal grid system, zoom level 8:\n",
    "\n",
    "- Building density: number of buildings per hexagon\n",
    "- Building coverage: proportion of the hexagon covered by buildings\n",
    "- Street length: total length of streets within the hexagon\n",
    "- Street linearity: a measure of how regular the street network is\n",
    "\n",
    "With these at hand, your task is the following:\n",
    "\n",
    "- **Develop a regionalisation that partitions Dar Es Salaam based on its built environment**\n",
    "\n",
    "*These are only guidelines, feel free to improvise and go beyond what's set. The sky is the limit!*\n",
    "\n",
    "\n",
    "For that, you can follow these suggestions:\n",
    "\n",
    "- Create a spatial weights matrix to capture spatial relationships between hexagons.\n",
    "    - If you use nearest neighbours: think about whether the geometry of the polygons should be accounted for;\n",
    "    - If you use a distance band: think about an appropriate threshold and appropriate units (possibly change the CRS for that; hint: [this map of UTM zones](https://www.arcgis.com/home/item.html?id=b294795270aa4fb3bd25286bf09edc51) and a search on the https://epsg.io/ website can help!) \n",
    "- Set up a regionalisation algorithm with a given number of clusters (e.g. five or seven)\n",
    "- Generate a geometry that contains only the boundaries of each region and visualise it (ideally with a satellite image as basemap for context); for an appropriate cmap browse [matplotlib's cmap palettes](https://matplotlib.org/stable/tutorials/colors/colormaps.html)\n",
    "- Rinse and repeat with several combinations of variables and number of clusters\n",
    "- Pick your best. *Why have you selected it? What does it show? What are the main groups of areas based on the built environment?*"
   ]
  },
  {
   "cell_type": "code",
   "execution_count": null,
   "metadata": {},
   "outputs": [],
   "source": [
    "# Your solution for Task II"
   ]
  },
  {
   "cell_type": "markdown",
   "metadata": {},
   "source": [
    "### Optional tasks\n",
    "If you have time and like to do more stuff, here are some suggestions on what you can do with the current dataset:\n",
    "\n",
    "Look into the H3 API (https://h3geo.org/docs/3.x/), and find functions to downsample the data you have to a lower resolution, e.g. 7. How do you handle the sampling process? Do the results change? How? Note: the H3 version in the environment is slightly older than the current release. \n",
    "\n",
    "It is possible that some cells are outliers, which are not handled by KMeans or hierarchical clustering. Identify outliers and handle them, either by removing them or by using a clustering method that can handle them (e.g. DBSCAN). "
   ]
  },
  {
   "cell_type": "code",
   "execution_count": null,
   "metadata": {},
   "outputs": [],
   "source": []
  }
 ],
 "metadata": {
  "kernelspec": {
   "display_name": "Python 3 (ipykernel)",
   "language": "python",
   "name": "python3"
  },
  "language_info": {
   "codemirror_mode": {
    "name": "ipython",
    "version": 3
   },
   "file_extension": ".py",
   "mimetype": "text/x-python",
   "name": "python",
   "nbconvert_exporter": "python",
   "pygments_lexer": "ipython3",
   "version": "3.9.12"
  },
  "vscode": {
   "interpreter": {
    "hash": "09273b9d70777594a7b7f3f6c3e8e91be451f5d194695438b5ebcc24128e9f82"
   }
  }
 },
 "nbformat": 4,
 "nbformat_minor": 4
}
